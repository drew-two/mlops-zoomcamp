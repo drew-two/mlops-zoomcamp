{
 "cells": [
  {
   "cell_type": "code",
   "execution_count": 1,
   "metadata": {},
   "outputs": [],
   "source": [
    "import pymongo"
   ]
  },
  {
   "cell_type": "code",
   "execution_count": 2,
   "metadata": {},
   "outputs": [],
   "source": [
    "client = pymongo.MongoClient('mongodb://localhost:27018')\n",
    "db = client.get_database('prediction_service')"
   ]
  },
  {
   "cell_type": "code",
   "execution_count": 3,
   "metadata": {},
   "outputs": [],
   "source": [
    "data_collection = db.get_collection('data')"
   ]
  },
  {
   "cell_type": "code",
   "execution_count": 8,
   "metadata": {},
   "outputs": [],
   "source": [
    "data = list(data_collection.find())"
   ]
  },
  {
   "cell_type": "code",
   "execution_count": 9,
   "metadata": {},
   "outputs": [
    {
     "data": {
      "text/plain": [
       "[{'_id': ObjectId('62d4c656983c2c8f91e60b76'),\n",
       "  'VendorID': 2,\n",
       "  'lpep_pickup_datetime': '2022-01-01T00:14:21',\n",
       "  'lpep_dropoff_datetime': '2022-01-01T00:15:33',\n",
       "  'store_and_fwd_flag': 'N',\n",
       "  'RatecodeID': 1.0,\n",
       "  'PULocationID': 42,\n",
       "  'DOLocationID': 42,\n",
       "  'passenger_count': 1.0,\n",
       "  'trip_distance': 0.44,\n",
       "  'fare_amount': 3.5,\n",
       "  'extra': 0.5,\n",
       "  'mta_tax': 0.5,\n",
       "  'tip_amount': 0.0,\n",
       "  'tolls_amount': 0.0,\n",
       "  'ehail_fee': None,\n",
       "  'improvement_surcharge': 0.3,\n",
       "  'total_amount': 4.8,\n",
       "  'payment_type': 2.0,\n",
       "  'trip_type': 1.0,\n",
       "  'congestion_surcharge': 0.0,\n",
       "  'id': '1b834857-9c70-4ef8-a528-620cf0b3e881',\n",
       "  'PU_DO': '42_42',\n",
       "  'prediction': 5.1187076614244305},\n",
       " {'_id': ObjectId('62d4c657983c2c8f91e60b77'),\n",
       "  'VendorID': 1,\n",
       "  'lpep_pickup_datetime': '2022-01-01T00:20:55',\n",
       "  'lpep_dropoff_datetime': '2022-01-01T00:29:38',\n",
       "  'store_and_fwd_flag': 'N',\n",
       "  'RatecodeID': 1.0,\n",
       "  'PULocationID': 116,\n",
       "  'DOLocationID': 41,\n",
       "  'passenger_count': 1.0,\n",
       "  'trip_distance': 2.1,\n",
       "  'fare_amount': 9.5,\n",
       "  'extra': 0.5,\n",
       "  'mta_tax': 0.5,\n",
       "  'tip_amount': 0.0,\n",
       "  'tolls_amount': 0.0,\n",
       "  'ehail_fee': None,\n",
       "  'improvement_surcharge': 0.3,\n",
       "  'total_amount': 10.8,\n",
       "  'payment_type': 2.0,\n",
       "  'trip_type': 1.0,\n",
       "  'congestion_surcharge': 0.0,\n",
       "  'id': '885e21b5-9180-4135-a623-52eee2ee8cfc',\n",
       "  'PU_DO': '116_41',\n",
       "  'prediction': 10.20109442336182},\n",
       " {'_id': ObjectId('62d4c658983c2c8f91e60b78'),\n",
       "  'VendorID': 1,\n",
       "  'lpep_pickup_datetime': '2022-01-01T00:57:02',\n",
       "  'lpep_dropoff_datetime': '2022-01-01T01:13:14',\n",
       "  'store_and_fwd_flag': 'N',\n",
       "  'RatecodeID': 1.0,\n",
       "  'PULocationID': 41,\n",
       "  'DOLocationID': 140,\n",
       "  'passenger_count': 1.0,\n",
       "  'trip_distance': 3.7,\n",
       "  'fare_amount': 14.5,\n",
       "  'extra': 3.25,\n",
       "  'mta_tax': 0.5,\n",
       "  'tip_amount': 4.6,\n",
       "  'tolls_amount': 0.0,\n",
       "  'ehail_fee': None,\n",
       "  'improvement_surcharge': 0.3,\n",
       "  'total_amount': 23.15,\n",
       "  'payment_type': 1.0,\n",
       "  'trip_type': 1.0,\n",
       "  'congestion_surcharge': 2.75,\n",
       "  'id': '8db2b649-32ba-4444-8a92-9aa9726cc381',\n",
       "  'PU_DO': '41_140',\n",
       "  'prediction': 20.631577268385662},\n",
       " {'_id': ObjectId('62d4c659983c2c8f91e60b79'),\n",
       "  'VendorID': 2,\n",
       "  'lpep_pickup_datetime': '2022-01-01T00:07:42',\n",
       "  'lpep_dropoff_datetime': '2022-01-01T00:15:57',\n",
       "  'store_and_fwd_flag': 'N',\n",
       "  'RatecodeID': 1.0,\n",
       "  'PULocationID': 181,\n",
       "  'DOLocationID': 181,\n",
       "  'passenger_count': 1.0,\n",
       "  'trip_distance': 1.69,\n",
       "  'fare_amount': 8.0,\n",
       "  'extra': 0.5,\n",
       "  'mta_tax': 0.5,\n",
       "  'tip_amount': 0.0,\n",
       "  'tolls_amount': 0.0,\n",
       "  'ehail_fee': None,\n",
       "  'improvement_surcharge': 0.3,\n",
       "  'total_amount': 9.3,\n",
       "  'payment_type': 2.0,\n",
       "  'trip_type': 1.0,\n",
       "  'congestion_surcharge': 0.0,\n",
       "  'id': 'dbba5bdc-0e5b-46f4-9f11-fa859c12eaa0',\n",
       "  'PU_DO': '181_181',\n",
       "  'prediction': 6.643248176042597}]"
      ]
     },
     "execution_count": 9,
     "metadata": {},
     "output_type": "execute_result"
    }
   ],
   "source": [
    "data"
   ]
  },
  {
   "cell_type": "code",
   "execution_count": 10,
   "metadata": {},
   "outputs": [
    {
     "data": {
      "text/plain": [
       "{'_id': ObjectId('62d4c656983c2c8f91e60b76'),\n",
       " 'VendorID': 2,\n",
       " 'lpep_pickup_datetime': '2022-01-01T00:14:21',\n",
       " 'lpep_dropoff_datetime': '2022-01-01T00:15:33',\n",
       " 'store_and_fwd_flag': 'N',\n",
       " 'RatecodeID': 1.0,\n",
       " 'PULocationID': 42,\n",
       " 'DOLocationID': 42,\n",
       " 'passenger_count': 1.0,\n",
       " 'trip_distance': 0.44,\n",
       " 'fare_amount': 3.5,\n",
       " 'extra': 0.5,\n",
       " 'mta_tax': 0.5,\n",
       " 'tip_amount': 0.0,\n",
       " 'tolls_amount': 0.0,\n",
       " 'ehail_fee': None,\n",
       " 'improvement_surcharge': 0.3,\n",
       " 'total_amount': 4.8,\n",
       " 'payment_type': 2.0,\n",
       " 'trip_type': 1.0,\n",
       " 'congestion_surcharge': 0.0,\n",
       " 'id': '1b834857-9c70-4ef8-a528-620cf0b3e881',\n",
       " 'PU_DO': '42_42',\n",
       " 'prediction': 5.1187076614244305}"
      ]
     },
     "execution_count": 10,
     "metadata": {},
     "output_type": "execute_result"
    }
   ],
   "source": [
    "data[0]"
   ]
  },
  {
   "cell_type": "code",
   "execution_count": null,
   "metadata": {},
   "outputs": [],
   "source": []
  }
 ],
 "metadata": {
  "kernelspec": {
   "display_name": "Python 3.9.12 ('05-monitoring-T1w_xaUV')",
   "language": "python",
   "name": "python3"
  },
  "language_info": {
   "codemirror_mode": {
    "name": "ipython",
    "version": 3
   },
   "file_extension": ".py",
   "mimetype": "text/x-python",
   "name": "python",
   "nbconvert_exporter": "python",
   "pygments_lexer": "ipython3",
   "version": "3.9.12"
  },
  "orig_nbformat": 4,
  "vscode": {
   "interpreter": {
    "hash": "c2291166bea470ad73d1bd6eeab0e79461a0a40617181bcdcdd31d439a2cd00c"
   }
  }
 },
 "nbformat": 4,
 "nbformat_minor": 2
}
